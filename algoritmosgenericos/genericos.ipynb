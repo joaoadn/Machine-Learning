{
 "cells": [
  {
   "cell_type": "markdown",
   "metadata": {},
   "source": [
    "# **Algoritmos Genéricos**\n",
    "\n",
    "<p style=\"font-size: smaller; text-align: right;\">João Dias & Rafael Rodrigues</p>\n",
    "\n",
    "\n",
    "\n",
    "## **Objetivo**\n",
    "\n",
    "Aplicar um Algoritmo Genético (AG) para encontrar o valor máximo da função \n",
    "𝑓(𝑥)=𝑥2−3𝑥+4 no intervalo 𝑋=[−10,+10].\n",
    "\n",
    "\n",
    "\n",
    "## **Estrutura do Notebook**\n",
    "\n",
    "1. **Introdução**\n",
    "  \n",
    "   Explicação sobre os algoritmos genéticos e sua aplicação na otimização de funções.\n",
    "\n",
    "2. **Representação e População Inicial**\n",
    "\n",
    "   Codificação dos indivíduos e geração da população inicial.\n",
    "\n",
    "3. **Função Objetivo**\n",
    "\n",
    "   Implementação da função 𝑓(𝑥).\n",
    "\n",
    "\n",
    "4. **Operadores Genéticos**\n",
    "\n",
    "   Implementação das operações de seleção, crossover e mutação.\n",
    "\n",
    "5. **Execução do Algoritmo**\n",
    "\n",
    "   Evolução ao longo de várias gerações e visualização dos resultados.\n",
    "\n",
    "6. **Conclusão**\n",
    "\n",
    "   Análise dos resultados e avaliação da eficácia do algoritmo.\n",
    "\n",
    "\n",
    "\n",
    "## **Introdução**\n",
    "\n",
    "Os Algoritmos Genéticos (AGs) são meta-heurísticas inspiradas na seleção natural e evolução biológica. Eles utilizam uma população de soluções candidatas que evoluem ao longo de gerações por meio de:\n",
    "\n",
    "- **Seleção:** Escolha dos melhores indivíduos com base em sua aptidão.\n",
    "- **Crossover:** Combinação de características entre indivíduos selecionados.\n",
    "- **Mutação:** Introdução de pequenas variações para manter a diversidade.\n",
    "\n",
    "Neste notebook, aplicaremos um AG para encontrar a solução que maximiza a função 𝑓(𝑥)no intervalo definido, utilizando:\n",
    "- População inicial de *4 indivíduos*.\n",
    "- Taxas de *crossover (70%)* e *mutação (1%)*.\n",
    "- *Seleção por torneio* como método de escolha.\n",
    "- Avaliação ao longo de *5 gerações*, podendo ser estendido para *20 gerações*.\n",
    "\n",
    "\n"
   ]
  },
  {
   "cell_type": "markdown",
   "metadata": {},
   "source": [
    "---"
   ]
  },
  {
   "cell_type": "markdown",
   "metadata": {},
   "source": [
    "## **Representação dos indivíduos e População inicial**\n",
    "\n",
    "Para implementar o Algoritmo Genético (AG), precisamos codificar os valores de 𝑥 como vetores binários. Vamos dividir essa etapa em três partes:\n",
    "\n",
    "1. *Codificação dos Indivíduos:* Representação de valores de 𝑥 em formato binário.\n",
    "2. *Decodificação:* Conversão do vetor binário de volta para valores reais no intervalo [−10,10].\n",
    "3. *Geração da População Inicial:* Criação de uma população inicial de 4 indivíduos.\n",
    "\n",
    "\n"
   ]
  },
  {
   "cell_type": "markdown",
   "metadata": {},
   "source": [
    "---"
   ]
  },
  {
   "cell_type": "markdown",
   "metadata": {},
   "source": [
    "## **1. Configuração Inicial e Funções de Codificação**"
   ]
  },
  {
   "cell_type": "code",
   "execution_count": 7,
   "metadata": {},
   "outputs": [],
   "source": [
    "import numpy as np\n",
    "import random\n",
    "\n",
    "# Parâmetros do problema\n",
    "NUM_BITS = 8  # Número de bits para representar x\n",
    "MIN_X = -10   # Limite inferior\n",
    "MAX_X = 10    # Limite superior\n",
    "\n",
    "def configurar_ag(taxa_crossover, taxa_mutacao, num_individuos, num_geracoes, seed):\n",
    "    np.random.seed(seed)\n",
    "    random.seed(seed)\n",
    "    return {\n",
    "        'taxa_crossover': taxa_crossover,\n",
    "        'taxa_mutacao': taxa_mutacao,\n",
    "        'num_individuos': num_individuos,\n",
    "        'num_geracoes': num_geracoes,\n",
    "        'seed': seed\n",
    "    }\n",
    "\n",
    "# Função para gerar um indivíduo aleatório (binário)\n",
    "def generate_individual(num_bits=NUM_BITS):\n",
    "    return np.random.randint(0, 2, size=num_bits)  # Vetor binário aleatório\n",
    "\n",
    "# Função para decodificar um vetor binário para um valor real\n",
    "def decode_individual(binary_vector, min_x=MIN_X, max_x=MAX_X):\n",
    "    decimal_value = int(\"\".join(map(str, binary_vector)), 2)  # Converte binário para decimal\n",
    "    max_value = (2 ** len(binary_vector)) - 1  # Maior valor possível para o número de bits\n",
    "    x = min_x + (decimal_value / max_value) * (max_x - min_x)\n",
    "    return x\n",
    "\n",
    "# Função para gerar a população inicial\n",
    "def generate_initial_population(pop_size=4, num_bits=NUM_BITS):\n",
    "    population = [generate_individual(num_bits) for _ in range(pop_size)]\n",
    "    return population\n"
   ]
  },
  {
   "cell_type": "markdown",
   "metadata": {},
   "source": [
    "---"
   ]
  },
  {
   "cell_type": "markdown",
   "metadata": {},
   "source": [
    "## **2. Função de Fitness**\n",
    "\n",
    "A função fitness mede o quão “bom” é um indivíduo em resolver o problema. Para este trabalho, o valor de f(x) será a medida de fitness.\n",
    "\n",
    "Entrada: A população atual (representada em binário).\n",
    "Decodificação: Converter o vetor binário para valores de x dentro do intervalo [−10,+10].\n",
    "Cálculo do Fitness: Avaliar f(x) para cada indivíduo.\n",
    "\n",
    "\n",
    "\n"
   ]
  },
  {
   "cell_type": "code",
   "execution_count": 8,
   "metadata": {},
   "outputs": [],
   "source": [
    "def binary_to_decimal(binary, lower_bound, upper_bound):\n",
    "    \"\"\"\n",
    "    Converte um vetor binário para um valor decimal no intervalo [lower_bound, upper_bound].\n",
    "    \"\"\"\n",
    "    decimal = int(\"\".join(map(str, binary)), 2)\n",
    "    max_value = (2 ** len(binary)) - 1\n",
    "    scaled_value = lower_bound + (decimal / max_value) * (upper_bound - lower_bound)\n",
    "    return scaled_value\n",
    "\n",
    "def fitness_function(population, lower_bound=-10, upper_bound=10):\n",
    "    \"\"\"\n",
    "    Calcula o fitness de cada indivíduo na população.\n",
    "    \"\"\"\n",
    "    fitness_values = []\n",
    "    for individual in population:\n",
    "        x = binary_to_decimal(individual, lower_bound, upper_bound)\n",
    "        fitness = x**2 - 3*x + 4  # Função f(x) = x^2 - 3x + 4\n",
    "        fitness_values.append(fitness)\n",
    "    return fitness_values\n",
    "\n"
   ]
  },
  {
   "cell_type": "markdown",
   "metadata": {},
   "source": [
    "Explicação:\n",
    "\n",
    "- binary_to_decimal: Converte um vetor binário em um valor decimal escalado para o intervalo desejado ([−10,+10]).\n",
    "\n",
    "- fitness_function: Calcula o fitness de cada indivíduo da população ao avaliar f(x)."
   ]
  },
  {
   "cell_type": "markdown",
   "metadata": {},
   "source": [
    "Saída Esperada: Uma lista com os valores de fitness calculados para cada indivíduo."
   ]
  },
  {
   "cell_type": "markdown",
   "metadata": {},
   "source": [
    "---"
   ]
  },
  {
   "cell_type": "markdown",
   "metadata": {},
   "source": [
    "## **3. Seleção por Torneio**"
   ]
  },
  {
   "cell_type": "code",
   "execution_count": 9,
   "metadata": {},
   "outputs": [],
   "source": [
    "def tournament_selection(population, fitness_values, tournament_size=2):\n",
    "    \"\"\"\n",
    "    Seleção por torneio: seleciona um indivíduo da população com base no fitness.\n",
    "    \"\"\"\n",
    "    selected = []\n",
    "    for _ in range(len(population)):\n",
    "        # Escolher aleatoriamente 'tournament_size' indivíduos\n",
    "        participants = random.sample(list(enumerate(fitness_values)), tournament_size)\n",
    "        # Encontrar o participante com maior fitness\n",
    "        winner = max(participants, key=lambda x: x[1])\n",
    "        selected.append(population[winner[0]])  # Adiciona o indivíduo vencedor\n",
    "    return selected\n"
   ]
  },
  {
   "cell_type": "markdown",
   "metadata": {},
   "source": [
    "---"
   ]
  },
  {
   "cell_type": "markdown",
   "metadata": {},
   "source": [
    "## **4. Crossover (Recombinação)**"
   ]
  },
  {
   "cell_type": "code",
   "execution_count": 10,
   "metadata": {},
   "outputs": [],
   "source": [
    "def crossover(parent1, parent2):\n",
    "    \"\"\"\n",
    "    Aplica crossover de um ponto entre dois pais.\n",
    "    \"\"\"\n",
    "    point = random.randint(1, len(parent1) - 1)  # Ponto de corte\n",
    "    child1 = parent1[:point] + parent2[point:]\n",
    "    child2 = parent2[:point] + parent1[point:]\n",
    "    return child1, child2\n",
    "\n",
    "def apply_crossover(population, crossover_rate=0.7):\n",
    "    \"\"\"\n",
    "    Aplica crossover na população com uma taxa de crossover.\n",
    "    \"\"\"\n",
    "    new_population = []\n",
    "    for i in range(0, len(population), 2):\n",
    "        parent1 = population[i]\n",
    "        parent2 = population[i + 1 if i + 1 < len(population) else 0]  # Garante paridade\n",
    "        if random.random() < crossover_rate:\n",
    "            child1, child2 = crossover(parent1, parent2)\n",
    "        else:\n",
    "            child1, child2 = parent1, parent2  # Sem crossover\n",
    "        new_population.extend([child1, child2])\n",
    "    return new_population\n"
   ]
  },
  {
   "cell_type": "markdown",
   "metadata": {},
   "source": [
    "---"
   ]
  },
  {
   "cell_type": "markdown",
   "metadata": {},
   "source": [
    "## **5. Mutação**"
   ]
  },
  {
   "cell_type": "code",
   "execution_count": 11,
   "metadata": {},
   "outputs": [],
   "source": [
    "def mutate(individual, mutation_rate=0.01):\n",
    "    \"\"\"\n",
    "    Aplica mutação em um indivíduo com uma taxa definida.\n",
    "    \"\"\"\n",
    "    return [1 - gene if random.random() < mutation_rate else gene for gene in individual]\n"
   ]
  },
  {
   "cell_type": "markdown",
   "metadata": {},
   "source": [
    "---"
   ]
  },
  {
   "cell_type": "markdown",
   "metadata": {},
   "source": [
    "## **6. Execução do Algoritmo**"
   ]
  },
  {
   "cell_type": "code",
   "execution_count": 12,
   "metadata": {},
   "outputs": [],
   "source": [
    "def run_genetic_algorithm(config, num_generations=5):\n",
    "    population = generate_initial_population(config['num_individuos'], NUM_BITS)\n",
    "    best_fitness = -np.inf  # Inicializa o melhor fitness com valor negativo infinitamente grande\n",
    "    best_individual = None\n",
    "\n",
    "    for generation in range(num_generations):\n",
    "        fitness_values = fitness_function(population)\n",
    "        selected_population = tournament_selection(population, fitness_values)\n",
    "        population = apply_crossover(selected_population, config['taxa_crossover'])\n",
    "        population = [mutate(ind, config['taxa_mutacao']) for ind in population]\n",
    "        \n",
    "        # Verifica o melhor fitness da geração\n",
    "        current_best_fitness = max(fitness_values)\n",
    "        if current_best_fitness > best_fitness:\n",
    "            best_fitness = current_best_fitness\n",
    "            best_individual = population[fitness_values.index(current_best_fitness)]\n",
    "        \n",
    "        # Exibir informações da geração\n",
    "        print(f\"\\nGeração {generation + 1}:\")\n",
    "        for i, individual in enumerate(population):\n",
    "            x_value = decode_individual(individual)\n",
    "            fitness = fitness_values[i]\n",
    "            print(f\"Indivíduo {i+1}: x = {x_value:.4f}, Fitness = {fitness:.4f}\")\n",
    "\n",
    "    # Exibir e retornar o melhor indivíduo encontrado após as gerações\n",
    "    if best_individual is not None:\n",
    "        best_x_value = decode_individual(best_individual)\n",
    "        print(f\"\\nMelhor valor encontrado: x = {best_x_value:.4f}, Fitness = {best_fitness:.4f}\")\n",
    "        \n",
    "    return best_individual, best_fitness  # Retorna o melhor indivíduo e seu fitness"
   ]
  },
  {
   "cell_type": "markdown",
   "metadata": {},
   "source": [
    "---"
   ]
  }
 ],
 "metadata": {
  "kernelspec": {
   "display_name": "Python 3",
   "language": "python",
   "name": "python3"
  },
  "language_info": {
   "codemirror_mode": {
    "name": "ipython",
    "version": 3
   },
   "file_extension": ".py",
   "mimetype": "text/x-python",
   "name": "python",
   "nbconvert_exporter": "python",
   "pygments_lexer": "ipython3",
   "version": "3.13.0"
  }
 },
 "nbformat": 4,
 "nbformat_minor": 2
}
