{
 "cells": [
  {
   "cell_type": "markdown",
   "metadata": {},
   "source": [
    "# **Algoritmos Genéricos**\n",
    "\n",
    "<p style=\"font-size: smaller; text-align: right;\">João Dias & Rafael Rodrigues</p>\n",
    "\n",
    "\n",
    "\n",
    "## **Objetivo**\n",
    "\n",
    "Aplicar um Algoritmo Genético (AG) para encontrar o valor máximo da função \n",
    "𝑓(𝑥)=𝑥2−3𝑥+4f(x)=x2−3x+4 no intervalo 𝑋=[−10,+10].\n",
    "\n",
    "\n",
    "\n",
    "## **Estrutura do Notebook**\n",
    "\n",
    "1. **Introdução**  \n",
    "   Explicação sobre os algoritmos genéticos e sua aplicação na otimização de funções.\n",
    "\n",
    "2. **Representação e População Inicial**  \n",
    "   Codificação dos indivíduos e geração da população inicial.\n",
    "\n",
    "3. **Função Objetivo**  \n",
    "   Implementação da função 𝑓(𝑥).\n",
    "\n",
    "\n",
    "4. **Operadores Genéticos**  \n",
    "   Implementação das operações de seleção, crossover e mutação.\n",
    "\n",
    "5. **Execução do Algoritmo**  \n",
    "   Evolução ao longo de várias gerações e visualização dos resultados.\n",
    "\n",
    "6. **Conclusão**\n",
    "Análise dos resultados e avaliação da eficácia do algoritmo.\n",
    "\n",
    "\n",
    "\n",
    "## **Introdução**\n",
    "\n",
    "Os Algoritmos Genéticos (AGs) são meta-heurísticas inspiradas na seleção natural e evolução biológica. Eles utilizam uma população de soluções candidatas que evoluem ao longo de gerações por meio de:\n",
    "\n",
    "- **Seleção:** Escolha dos melhores indivíduos com base em sua aptidão.\n",
    "- **Crossover:** Combinação de características entre indivíduos selecionados.\n",
    "- **Mutação:** Introdução de pequenas variações para manter a diversidade.\n",
    "\n",
    "Neste notebook, aplicaremos um AG para encontrar a solução que maximiza a função 𝑓(𝑥)no intervalo definido, utilizando:\n",
    "- População inicial de *4 indivíduos*.\n",
    "- Taxas de *crossover (70%)* e *mutação (1%)*.\n",
    "- *Seleção por torneio* como método de escolha.\n",
    "- Avaliação ao longo de *5 gerações*, podendo ser estendido para *20 gerações*.\n",
    "\n",
    "\n"
   ]
  },
  {
   "cell_type": "markdown",
   "metadata": {},
   "source": [
    "---"
   ]
  },
  {
   "cell_type": "markdown",
   "metadata": {},
   "source": [
    "## **Representação dos indivíduos e População inicial**\n",
    "\n",
    "Para implementar o Algoritmo Genético (AG), precisamos codificar os valores de 𝑥 como vetores binários. Vamos dividir essa etapa em três partes:\n",
    "\n",
    "1. *Codificação dos Indivíduos:* Representação de valores de 𝑥 em formato binário.\n",
    "2. *Decodificação:* Conversão do vetor binário de volta para valores reais no intervalo [−10,10].\n",
    "3. *Geração da População Inicial:* Criação de uma população inicial de 4 indivíduos.\n",
    "\n",
    "\n"
   ]
  },
  {
   "cell_type": "markdown",
   "metadata": {},
   "source": [
    "---"
   ]
  },
  {
   "cell_type": "markdown",
   "metadata": {},
   "source": [
    "## **1. Codificação dos Indivíduos**\n",
    "\n",
    "Para representar 𝑥 como um vetor binário, definiremos um número de bits adequado para a precisão desejada.\n",
    "\n",
    "Vamos usar 8 bits para representar o intervalo [−10,10] Isso nos permite discretizar o intervalo em 2 elevado a 8 = 2562 valores possíveis.\n",
    "Fórmula de Decodificação: 𝑥 = min + (valor_decimal/(2 elevado a 𝑛) − 1) ⋅ (max − min)\n",
    "\n",
    "Onde:\n",
    "\n",
    "- 𝑛 é o número de bits (8).\n",
    "- valor_decimal é o valor do vetor binário convertido para decimal.\n",
    "- min e max são os limites do intervalo (−10 e +10).\n",
    "\n"
   ]
  },
  {
   "cell_type": "markdown",
   "metadata": {},
   "source": [
    "---"
   ]
  },
  {
   "cell_type": "markdown",
   "metadata": {},
   "source": [
    "## **2. Implementação da Codificação e Decodificação**\n",
    "\n",
    "Abaixo, implementaremos as funções de codificação e decodificação:\n",
    "\n",
    "\n"
   ]
  },
  {
   "cell_type": "code",
   "execution_count": null,
   "metadata": {},
   "outputs": [],
   "source": [
    "import numpy as np\n",
    "\n",
    "# Parâmetros do problema\n",
    "NUM_BITS = 8  # Número de bits para representar x\n",
    "MIN_X = -10   # Limite inferior\n",
    "MAX_X = 10    # Limite superior\n",
    "\n",
    "# Função para gerar um indivíduo aleatório (binário)\n",
    "def generate_individual(num_bits=NUM_BITS):\n",
    "    return np.random.randint(0, 2, size=num_bits)  # Vetor binário aleatório\n",
    "\n",
    "# Função para decodificar um vetor binário para um valor real\n",
    "def decode_individual(binary_vector, min_x=MIN_X, max_x=MAX_X):\n",
    "    decimal_value = int(\"\".join(map(str, binary_vector)), 2)  # Converte binário para decimal\n",
    "    x = min_x + (decimal_value / (2**len(binary_vector) - 1)) * (max_x - min_x)\n",
    "    return x\n"
   ]
  },
  {
   "cell_type": "markdown",
   "metadata": {},
   "source": [
    "---"
   ]
  },
  {
   "cell_type": "markdown",
   "metadata": {},
   "source": [
    "## **3. Geração da População Inicial**\n",
    "\n",
    "Agora, criaremos a população inicial de 4 indivíduos.\n",
    "\n",
    "\n"
   ]
  },
  {
   "cell_type": "code",
   "execution_count": null,
   "metadata": {},
   "outputs": [],
   "source": [
    "# Função para gerar a população inicial\n",
    "def generate_initial_population(pop_size=4, num_bits=NUM_BITS):\n",
    "    population = [generate_individual(num_bits) for _ in range(pop_size)]\n",
    "    return population\n",
    "\n",
    "# Gerar a população inicial\n",
    "population = generate_initial_population()\n",
    "\n",
    "# Exibir a população inicial e seus valores decodificados\n",
    "print(\"População Inicial:\")\n",
    "for i, individual in enumerate(population):\n",
    "    x_value = decode_individual(individual)\n",
    "    print(f\"Indivíduo {i+1}: Binário = {individual}, Valor de x = {x_value:.4f}\")\n"
   ]
  },
  {
   "cell_type": "markdown",
   "metadata": {},
   "source": [
    "---"
   ]
  },
  {
   "cell_type": "markdown",
   "metadata": {},
   "source": [
    "## **Função de Avaliação**\n",
    "\n",
    "A função fitness mede o quão “bom” é um indivíduo em resolver o problema. Para este trabalho, o valor de f(x) será a medida de fitness.\n",
    "\n",
    "Entrada: A população atual (representada em binário).\n",
    "Decodificação: Converter o vetor binário para valores de x dentro do intervalo [−10,+10].\n",
    "Cálculo do Fitness: Avaliar f(x) para cada indivíduo.\n",
    "\n",
    "\n",
    "\n"
   ]
  },
  {
   "cell_type": "code",
   "execution_count": null,
   "metadata": {},
   "outputs": [],
   "source": [
    "def binary_to_decimal(binary, lower_bound, upper_bound):\n",
    "    \"\"\"\n",
    "    Converte um vetor binário para um valor decimal no intervalo [lower_bound, upper_bound].\n",
    "    \"\"\"\n",
    "    decimal = int(\"\".join(map(str, binary)), 2)\n",
    "    max_value = (2 ** len(binary)) - 1\n",
    "    scaled_value = lower_bound + (decimal / max_value) * (upper_bound - lower_bound)\n",
    "    return scaled_value\n",
    "\n",
    "def fitness_function(population, lower_bound=-10, upper_bound=10):\n",
    "    \"\"\"\n",
    "    Calcula o fitness de cada indivíduo na população.\n",
    "    \"\"\"\n",
    "    fitness_values = []\n",
    "    for individual in population:\n",
    "        x = binary_to_decimal(individual, lower_bound, upper_bound)\n",
    "        fitness = x**2 - 3*x + 4  # Função f(x) = x^2 - 3x + 4\n",
    "        fitness_values.append(fitness)\n",
    "    return fitness_values\n"
   ]
  },
  {
   "cell_type": "markdown",
   "metadata": {},
   "source": [
    "Explicação:\n",
    "\n",
    "- binary_to_decimal: Converte um vetor binário em um valor decimal escalado para o intervalo desejado ([−10,+10]).\n",
    "\n",
    "- fitness_function: Calcula o fitness de cada indivíduo da população ao avaliar f(x)."
   ]
  },
  {
   "cell_type": "markdown",
   "metadata": {},
   "source": [
    "## **Testando a Função**\n",
    "\n",
    "Para testar, usaremos a população inicial criada anteriormente.\n"
   ]
  },
  {
   "cell_type": "code",
   "execution_count": null,
   "metadata": {},
   "outputs": [],
   "source": [
    "# Testando a função fitness\n",
    "fitness_values = fitness_function(population)\n",
    "print(\"Valores de Fitness para a População Inicial:\")\n",
    "for i, fitness in enumerate(fitness_values):\n",
    "    print(f\"Indivíduo {i+1}: Fitness = {fitness:.4f}\")\n"
   ]
  },
  {
   "cell_type": "markdown",
   "metadata": {},
   "source": [
    "Saída Esperada: Uma lista com os valores de fitness calculados para cada indivíduo."
   ]
  },
  {
   "cell_type": "markdown",
   "metadata": {},
   "source": [
    "---"
   ]
  },
  {
   "cell_type": "markdown",
   "metadata": {},
   "source": [
    "## **Seleção por Torneio**\n",
    "\n",
    "A seleção por torneio é um método que seleciona os indivíduos com base no valor do fitness. O processo consiste em:\n",
    "\n",
    "- Selecionar aleatoriamente um grupo de indivíduos da população (tamanho do torneio).\n",
    "- Comparar os valores de fitness dos indivíduos selecionados.\n",
    "- Escolher o indivíduo com o melhor fitness para reprodução.\n",
    "- Esse processo ajuda a garantir que os melhores indivíduos têm maior chance de reproduzir, mas ainda mantém alguma variabilidade devido à seleção aleatória.\n",
    "\n",
    "\n"
   ]
  },
  {
   "cell_type": "code",
   "execution_count": null,
   "metadata": {},
   "outputs": [],
   "source": [
    "import random\n",
    "\n",
    "def tournament_selection(population, fitness_values, tournament_size=2):\n",
    "    \"\"\"\n",
    "    Seleção por torneio: seleciona um indivíduo da população com base no fitness.\n",
    "    \"\"\"\n",
    "    selected = []\n",
    "    for _ in range(len(population)):\n",
    "        # Escolher aleatoriamente 'tournament_size' indivíduos\n",
    "        participants = random.sample(list(enumerate(fitness_values)), tournament_size)\n",
    "        # Encontrar o participante com maior fitness\n",
    "        winner = max(participants, key=lambda x: x[1])\n",
    "        selected.append(population[winner[0]])  # Adiciona o indivíduo vencedor\n",
    "    return selected\n"
   ]
  },
  {
   "cell_type": "markdown",
   "metadata": {},
   "source": [
    "Explicação:\n",
    "- random.sample: Seleciona aleatoriamente tournament_size indivíduos e seus valores de fitness.\n",
    "- max: Seleciona o indivíduo com o maior fitness entre os participantes.\n",
    "- Retorno: Retorna uma nova população formada pelos vencedores do torneio."
   ]
  },
  {
   "cell_type": "markdown",
   "metadata": {},
   "source": [
    "## **Testando a Seleção por Torneio**"
   ]
  },
  {
   "cell_type": "code",
   "execution_count": null,
   "metadata": {},
   "outputs": [],
   "source": [
    "# Executando a seleção por torneio\n",
    "selected_population = tournament_selection(population, fitness_values, tournament_size=2)\n",
    "\n",
    "print(\"População Selecionada (Torneio):\")\n",
    "for i, individual in enumerate(selected_population):\n",
    "    print(f\"Indivíduo {i+1}: {individual}\")\n"
   ]
  },
  {
   "cell_type": "markdown",
   "metadata": {},
   "source": [
    "Saída Esperada: A nova população selecionada, com indivíduos que têm maior fitness em relação aos outros participantes do torneio."
   ]
  },
  {
   "cell_type": "markdown",
   "metadata": {},
   "source": [
    "---"
   ]
  },
  {
   "cell_type": "markdown",
   "metadata": {},
   "source": [
    "## **Crossover (Recombinação)**\n",
    "\n",
    "O crossover combina informações genéticas de dois pais para gerar dois novos filhos. Ele ocorre com uma taxa de crossover definida (geralmente 70%). O processo é:\n",
    "\n",
    "- Selecionar aleatoriamente dois indivíduos da população.\n",
    "- Escolher um ponto de corte (posição) no vetor binário.\n",
    "- Trocar os segmentos entre os dois indivíduos a partir do ponto de corte.\n",
    "- Adicionar os filhos gerados à nova população."
   ]
  },
  {
   "cell_type": "code",
   "execution_count": null,
   "metadata": {},
   "outputs": [],
   "source": [
    "def crossover(parent1, parent2):\n",
    "    \"\"\"\n",
    "    Aplica crossover de um ponto entre dois pais.\n",
    "    \"\"\"\n",
    "    point = random.randint(1, len(parent1) - 1)  # Ponto de corte\n",
    "    child1 = parent1[:point] + parent2[point:]\n",
    "    child2 = parent2[:point] + parent1[point:]\n",
    "    return child1, child2\n",
    "\n",
    "def apply_crossover(population, crossover_rate=0.7):\n",
    "    \"\"\"\n",
    "    Aplica crossover na população com uma taxa de crossover.\n",
    "    \"\"\"\n",
    "    new_population = []\n",
    "    for i in range(0, len(population), 2):\n",
    "        parent1 = population[i]\n",
    "        parent2 = population[i + 1 if i + 1 < len(population) else 0]  # Garante paridade\n",
    "        if random.random() < crossover_rate:\n",
    "            child1, child2 = crossover(parent1, parent2)\n",
    "        else:\n",
    "            child1, child2 = parent1, parent2  # Sem crossover\n",
    "        new_population.extend([child1, child2])\n",
    "    return new_population\n"
   ]
  },
  {
   "cell_type": "markdown",
   "metadata": {},
   "source": [
    "Explicação:\n",
    "\n",
    "- random.randint: Define o ponto de corte no vetor binário.\n",
    "- Segmentação: Divide os dois pais e troca os segmentos.\n",
    "- Taxa de crossover: Controla a frequência de aplicação do crossover. Se não ocorrer crossover, os pais são mantidos."
   ]
  },
  {
   "cell_type": "markdown",
   "metadata": {},
   "source": [
    "## **Testando o Crossover**"
   ]
  },
  {
   "cell_type": "code",
   "execution_count": null,
   "metadata": {},
   "outputs": [],
   "source": [
    "# Aplicando crossover na população selecionada\n",
    "new_population = apply_crossover(selected_population, crossover_rate=0.7)\n",
    "\n",
    "print(\"População após Crossover:\")\n",
    "for i, individual in enumerate(new_population):\n",
    "    print(f\"Indivíduo {i+1}: {individual}\")\n"
   ]
  },
  {
   "cell_type": "markdown",
   "metadata": {},
   "source": [
    "Saída Esperada:\n",
    "Uma nova população de indivíduos (filhos), gerada com base na recombinação genética dos pais."
   ]
  },
  {
   "cell_type": "markdown",
   "metadata": {},
   "source": [
    "---"
   ]
  }
 ],
 "metadata": {
  "language_info": {
   "name": "python"
  }
 },
 "nbformat": 4,
 "nbformat_minor": 2
}
