{
 "cells": [
  {
   "cell_type": "markdown",
   "metadata": {},
   "source": [
    "# **Algoritmos Genéricos**\n",
    "\n",
    "\n",
    "\n",
    "<p style=\"font-size: smaller; text-align: right;\">João Dias & Rafael Rodrigues</p>\n",
    "\n",
    "\n",
    "\n",
    "## **Objetivo**\n",
    "\n",
    "Aplicar um Algoritmo Genético (AG) para encontrar o valor máximo da função \n",
    "𝑓(𝑥)=𝑥2−3𝑥+4 no intervalo 𝑋=[−10,+10].\n",
    "\n",
    "\n",
    "\n",
    "## **Estrutura do Notebook**\n",
    "\n",
    "1. **Introdução**\n",
    "  \n",
    "   Explicação sobre os algoritmos genéticos e sua aplicação na otimização de funções.\n",
    "\n",
    "2. **Representação e População Inicial**\n",
    "\n",
    "   Codificação dos indivíduos e geração da população inicial.\n",
    "\n",
    "3. **Função Objetivo**\n",
    "\n",
    "   Implementação da função 𝑓(𝑥).\n",
    "\n",
    "\n",
    "4. **Operadores Genéticos**\n",
    "\n",
    "   Implementação das operações de seleção, crossover e mutação.\n",
    "\n",
    "5. **Execução do Algoritmo**\n",
    "\n",
    "   Evolução ao longo de várias gerações e visualização dos resultados.\n",
    "\n",
    "6. **Conclusão**\n",
    "\n",
    "   Análise dos resultados e avaliação da eficácia do algoritmo.\n",
    "\n",
    "\n",
    "\n",
    "## **Introdução**\n",
    "\n",
    "Os Algoritmos Genéticos (AGs) são meta-heurísticas inspiradas na seleção natural e evolução biológica. Eles utilizam uma população de soluções candidatas que evoluem ao longo de gerações por meio de:\n",
    "\n",
    "- **Seleção:** Escolha dos melhores indivíduos com base em sua aptidão.\n",
    "- **Crossover:** Combinação de características entre indivíduos selecionados.\n",
    "- **Mutação:** Introdução de pequenas variações para manter a diversidade.\n",
    "\n",
    "Neste notebook, aplicaremos um AG para encontrar a solução que maximiza a função 𝑓(𝑥)no intervalo definido, utilizando:\n",
    "- População inicial de *4 indivíduos*.\n",
    "- Taxas de *crossover (70%)* e *mutação (1%)*.\n",
    "- *Seleção por torneio* como método de escolha.\n",
    "- Avaliação ao longo de *5 gerações*, podendo ser estendido para *20 gerações*.\n",
    "\n",
    "\n"
   ]
  },
  {
   "cell_type": "markdown",
   "metadata": {},
   "source": [
    "---"
   ]
  },
  {
   "cell_type": "markdown",
   "metadata": {},
   "source": [
    "## **Representação dos indivíduos e População inicial**\n",
    "\n",
    "Para implementar o Algoritmo Genético (AG), precisamos codificar os valores de 𝑥 como vetores binários. Vamos dividir essa etapa em três partes:\n",
    "\n",
    "1. *Codificação dos Indivíduos:* Representação de valores de 𝑥 em formato binário.\n",
    "2. *Decodificação:* Conversão do vetor binário de volta para valores reais no intervalo [−10,10].\n",
    "3. *Geração da População Inicial:* Criação de uma população inicial de 4 indivíduos.\n",
    "\n",
    "\n"
   ]
  },
  {
   "cell_type": "markdown",
   "metadata": {},
   "source": [
    "---"
   ]
  },
  {
   "cell_type": "markdown",
   "metadata": {},
   "source": [
    "## **1. Configuração Inicial e Funções de Codificação**"
   ]
  },
  {
   "cell_type": "code",
   "execution_count": 77,
   "metadata": {},
   "outputs": [],
   "source": [
    "import numpy as np\n",
    "import random\n",
    "import matplotlib.pyplot as plt\n",
    "\n",
    "def codificar_individuo(valor):\n",
    "        \"\"\"Converte valor decimal para vetor binário\"\"\"\n",
    "        # Mapeia o valor do intervalo [-10, 10] para [0, 2^n-1]\n",
    "        valor_normalizado = int(((valor + 10) / 20) * (2**10 - 1))\n",
    "        # Converte para binário com 10 bits\n",
    "        binario = bin(valor_normalizado)[2:].zfill(10)\n",
    "        return [int(bit) for bit in binario]\n",
    "\n",
    "def decodificar_individuo(individuo):\n",
    "        \"\"\"Converte vetor binário para valor decimal no intervalo [-10, 10]\"\"\"\n",
    "        binario = ''.join(map(str, individuo))\n",
    "        # Mapeia o binário para o intervalo [-10, 10]\n",
    "        valor = int(binario, 2)\n",
    "        # Normaliza para o intervalo [-10, 10]\n",
    "        valor_mapeado = -10 + (valor / (2**len(individuo) - 1)) * 20\n",
    "        return valor_mapeado\n",
    "\n",
    "def funcao_objetivo(x):\n",
    "        \"\"\"Função f(x) = x² - 3x + 4\"\"\"\n",
    "        return x**2 - 3*x + 4\n",
    "\n",
    "def gerar_populacao_inicial(numero_individuos, tamanho_cromossomo):\n",
    "        \"\"\"Gera população inicial de indivíduos\"\"\"\n",
    "        return [codificar_individuo(random.uniform(-10, 10)) \n",
    "        for _ in range(numero_individuos)]\n"
   ]
  },
  {
   "cell_type": "markdown",
   "metadata": {},
   "source": [
    "---"
   ]
  },
  {
   "cell_type": "markdown",
   "metadata": {},
   "source": [
    "## **2. Função de Fitness**\n",
    "\n",
    "A função fitness mede o quão “bom” é um indivíduo em resolver o problema. Para este trabalho, o valor de f(x) será a medida de fitness."
   ]
  },
  {
   "cell_type": "code",
   "execution_count": 78,
   "metadata": {},
   "outputs": [],
   "source": [
    "def funcao_fitness(x):\n",
    "        \"\"\"\n",
    "        Função de aptidão para maximização\n",
    "        Transforma o valor da função objetivo em um valor de aptidão positivo\n",
    "        \"\"\"\n",
    "        # Calcula o valor da função objetivo\n",
    "        valor_objetivo = funcao_objetivo(x)\n",
    "        # Método de transformação linear\n",
    "        # Garante que todos os valores sejam positivos\n",
    "        # Preserva a proporção entre os valores\n",
    "        fitness = valor_objetivo + abs(min(funcao_objetivo(x) for x in np.linspace(-10, 10, 100))) + 1\n",
    "        return fitness"
   ]
  },
  {
   "cell_type": "markdown",
   "metadata": {},
   "source": [
    "---"
   ]
  },
  {
   "cell_type": "markdown",
   "metadata": {},
   "source": [
    "## **3. Seleção por Torneio**"
   ]
  },
  {
   "cell_type": "code",
   "execution_count": 79,
   "metadata": {},
   "outputs": [],
   "source": [
    "def selecao_torneio(populacao, funcao_aptidao, tamanho_torneio=3):\n",
    "        \"\"\"Seleção por torneio\"\"\"\n",
    "        torneio = random.sample(populacao, tamanho_torneio)\n",
    "        return max(torneio, key=funcao_aptidao)  # Máximo pois queremos maximizar"
   ]
  },
  {
   "cell_type": "markdown",
   "metadata": {},
   "source": [
    "---"
   ]
  },
  {
   "cell_type": "markdown",
   "metadata": {},
   "source": [
    "## **4. Crossover (Recombinação)**"
   ]
  },
  {
   "cell_type": "code",
   "execution_count": 80,
   "metadata": {},
   "outputs": [],
   "source": [
    "def crossover(pai1, pai2, taxa_crossover):\n",
    "    \"\"\"Realiza crossover com taxa definida\"\"\"\n",
    "    if random.random() < taxa_crossover:\n",
    "        ponto_corte = random.randint(1, len(pai1)-1)\n",
    "        filho1 = pai1[:ponto_corte] + pai2[ponto_corte:]\n",
    "        filho2 = pai2[:ponto_corte] + pai1[ponto_corte:]\n",
    "        return filho1, filho2\n",
    "    return pai1, pai2"
   ]
  },
  {
   "cell_type": "markdown",
   "metadata": {},
   "source": [
    "---"
   ]
  },
  {
   "cell_type": "markdown",
   "metadata": {},
   "source": [
    "## **5. Mutação**"
   ]
  },
  {
   "cell_type": "code",
   "execution_count": 81,
   "metadata": {},
   "outputs": [],
   "source": [
    "def mutacao(individuo, taxa_mutacao):\n",
    "    \"\"\"Realiza mutação com taxa definida\"\"\"\n",
    "    for i in range(len(individuo)):\n",
    "        if random.random() < taxa_mutacao:\n",
    "            individuo[i] = 1 - individuo[i]\n",
    "    return individuo"
   ]
  },
  {
   "cell_type": "markdown",
   "metadata": {},
   "source": [
    "---"
   ]
  },
  {
   "cell_type": "markdown",
   "metadata": {},
   "source": [
    "## **6. Execução do Algoritmo**"
   ]
  },
  {
   "cell_type": "code",
   "execution_count": 82,
   "metadata": {},
   "outputs": [
    {
     "name": "stdout",
     "output_type": "stream",
     "text": [
      "Geração 0: Melhor x = -7.7517, Melhor valor = 87.3442\n",
      "Geração 1: Melhor x = -7.7713, Melhor valor = 87.7063\n",
      "Geração 2: Melhor x = -7.7713, Melhor valor = 87.7063\n",
      "Geração 3: Melhor x = -7.7713, Melhor valor = 87.7063\n",
      "Geração 4: Melhor x = -7.7713, Melhor valor = 87.7063\n",
      "\n",
      "--- Resultado Final ---\n",
      "Melhor x encontrado: -7.7713\n",
      "Valor máximo de f(x): 87.7063\n",
      "Representação Binária: [0, 0, 0, 1, 1, 1, 0, 0, 1, 0]\n"
     ]
    },
    {
     "data": {
      "image/png": "[encoded data removed]",
      "text/plain": [
       "<Figure size 1000x500 with 1 Axes>"
      ]
     },
     "metadata": {},
     "output_type": "display_data"
    }
   ],
   "source": [
    "def algoritmo_genetico(\n",
    "    numero_individuos=4,     # População inicial \n",
    "    numero_geracoes=5,       # Número de gerações\n",
    "    taxa_crossover=0.7,      # Taxa de crossover \n",
    "    taxa_mutacao=0.01,       # Taxa de mutação\n",
    "    tamanho_cromossomo=10    # Tamanho do cromossomo em bits\n",
    "):\n",
    "    \"\"\"Executa o Algoritmo Genético para maximizar f(x)\"\"\"\n",
    "    # População inicial\n",
    "    populacao = gerar_populacao_inicial(numero_individuos, tamanho_cromossomo)\n",
    "    \n",
    "    # Histórico de evolução\n",
    "    historico_evolucao = []\n",
    "    \n",
    "    for geracao in range(numero_geracoes):\n",
    "        # Avalia a aptidão de cada indivíduo\n",
    "        aptidoes = []\n",
    "        valores_x = []\n",
    "        \n",
    "        for individuo in populacao:\n",
    "            x = decodificar_individuo(individuo)\n",
    "            valores_x.append(x)\n",
    "            aptidoes.append(funcao_objetivo(x))\n",
    "        \n",
    "        # Encontra o melhor indivíduo\n",
    "        melhor_indice = np.argmax(aptidoes)\n",
    "        melhor_x = valores_x[melhor_indice]\n",
    "        melhor_valor = aptidoes[melhor_indice]\n",
    "        \n",
    "        # Registra detalhes da geração\n",
    "        historico_evolucao.append({\n",
    "            'geracao': geracao,\n",
    "            'melhor_x': melhor_x,\n",
    "            'melhor_valor': melhor_valor,\n",
    "            'media_aptidao': np.mean(aptidoes)\n",
    "        })\n",
    "        \n",
    "        # Impressão de progresso\n",
    "        print(f\"Geração {geracao}: Melhor x = {melhor_x:.4f}, Melhor valor = {melhor_valor:.4f}\")\n",
    "        \n",
    "        # Seleção, crossover e mutação\n",
    "        nova_populacao = []\n",
    "        \n",
    "        while len(nova_populacao) < numero_individuos:\n",
    "            # Seleção de pais\n",
    "            pai1 = selecao_torneio(populacao, lambda ind: funcao_objetivo(decodificar_individuo(ind)))\n",
    "            pai2 = selecao_torneio(populacao, lambda ind: funcao_objetivo(decodificar_individuo(ind)))\n",
    "            \n",
    "            # Crossover\n",
    "            filho1, filho2 = crossover(pai1, pai2, taxa_crossover)\n",
    "            \n",
    "            # Mutação\n",
    "            filho1 = mutacao(filho1, taxa_mutacao)\n",
    "            filho2 = mutacao(filho2, taxa_mutacao)\n",
    "            \n",
    "            nova_populacao.extend([filho1, filho2])\n",
    "        \n",
    "        # Atualiza população\n",
    "        populacao = nova_populacao[:numero_individuos]\n",
    "    \n",
    "    # Resultado final\n",
    "    aptidoes_finais = [funcao_objetivo(decodificar_individuo(ind)) for ind in populacao]\n",
    "    melhor_indice = np.argmax(aptidoes_finais)\n",
    "    melhor_solucao = populacao[melhor_indice]\n",
    "    melhor_x = decodificar_individuo(melhor_solucao)\n",
    "    \n",
    "    # Impressão detalhada do resultado\n",
    "    print(\"\\n--- Resultado Final ---\")\n",
    "    print(f\"Melhor x encontrado: {melhor_x:.4f}\")\n",
    "    print(f\"Valor máximo de f(x): {funcao_objetivo(melhor_x):.4f}\")\n",
    "    print(f\"Representação Binária: {melhor_solucao}\")\n",
    "    \n",
    "    # Gráfico da evolução\n",
    "    plt.figure(figsize=(10, 5))\n",
    "    plt.plot([g['geracao'] for g in historico_evolucao], \n",
    "            [g['melhor_valor'] for g in historico_evolucao], \n",
    "            label='Melhor Valor')\n",
    "    plt.title('Evolução do Melhor Valor ao Longo das Gerações')\n",
    "    plt.xlabel('Geração')\n",
    "    plt.ylabel('f(x)')\n",
    "    plt.legend()\n",
    "    plt.show()\n",
    "    \n",
    "    return {\n",
    "        'melhor_x': melhor_x,\n",
    "        'melhor_valor': funcao_objetivo(melhor_x),\n",
    "        'historico_evolucao': historico_evolucao\n",
    "    }\n",
    "\n",
    "# Execução do algoritmo\n",
    "resultado = algoritmo_genetico(\n",
    "    numero_individuos=4,     # Podem ser aumentados até 30\n",
    "    numero_geracoes=5,       # Podem ser aumentados até 20\n",
    "    taxa_crossover=0.7,      # 70%\n",
    "    taxa_mutacao=0.01        # 1%\n",
    ")"
   ]
  },
  {
   "cell_type": "markdown",
   "metadata": {},
   "source": [
    "---"
   ]
  }
 ],
 "metadata": {
  "kernelspec": {
   "display_name": "Python 3",
   "language": "python",
   "name": "python3"
  },
  "language_info": {
   "codemirror_mode": {
    "name": "ipython",
    "version": 3
   },
   "file_extension": ".py",
   "mimetype": "text/x-python",
   "name": "python",
   "nbconvert_exporter": "python",
   "pygments_lexer": "ipython3",
   "version": "3.13.0"
  }
 },
 "nbformat": 4,
 "nbformat_minor": 2
}
