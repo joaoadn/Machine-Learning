{
 "cells": [
  {
   "cell_type": "markdown",
   "metadata": {},
   "source": [
    "### **Jogo dos Oito: Implementação de Métodos de Busca**\n",
    "\n",
    "<p style=\"font-size: smaller; text-align: right;\">João Dias & Rafael Rodrigues</p>\n",
    "\n",
    "---\n",
    "\n",
    "### **Objetivo**\n",
    "\n",
    "Explorar e implementar dois métodos de busca — um cego (*não informado*) e outro informado — para resolver o problema do Jogo dos Oito. Os métodos escolhidos são **Busca em Amplitude (BFS)** e **Algoritmo A***. Este notebook visa comparar a eficiência e o desempenho de ambos os algoritmos, focando na solução do problema e na análise dos resultados.\n",
    "\n",
    "---\n",
    "\n",
    "### **Estrutura do Notebook**\n",
    "\n",
    "1. **Introdução**  \n",
    "   Contextualização sobre o Jogo dos Oito e os métodos de busca empregados.\n",
    "\n",
    "2. **Regras do Jogo**  \n",
    "   Definição do estado inicial, operações válidas, e o estado objetivo.\n",
    "\n",
    "3. **Implementação da Busca em Amplitude (BFS)**  \n",
    "   Desenvolvimento passo a passo do método cego.\n",
    "\n",
    "4. **Implementação do Algoritmo A***  \n",
    "   Utilização de heurísticas para um método informado mais eficiente.\n",
    "\n",
    "5. **Visualização dos Movimentos**  \n",
    "   Demonstração das jogadas que levam do estado inicial ao estado objetivo.\n",
    "\n",
    "6. **Comparação de Desempenho**  \n",
    "   Tempo de execução, número de estados explorados e eficiência de cada método.\n",
    "\n",
    "7. **Conclusão**  \n",
    "   Reflexões sobre as vantagens e desvantagens de cada abordagem.\n",
    "\n",
    "---\n",
    "\n",
    "### **Introdução**\n",
    "\n",
    "O Jogo dos Oito é um quebra-cabeça clássico que consiste em um tabuleiro de 3x3, com peças numeradas de 1 a 8 e uma posição vazia. O objetivo é reorganizar as peças de um estado inicial para um estado final predeterminado, utilizando movimentos válidos como deslizar uma peça para a posição vazia.\n",
    "\n",
    "Os métodos de busca empregados para resolver este problema têm aplicações práticas em Inteligência Artificial, especialmente em problemas de caminho mínimo e otimização. Enquanto a **Busca em Amplitude (BFS)** explora todas as possibilidades indiscriminadamente, o **Algoritmo A*** utiliza heurísticas para priorizar caminhos promissores, tornando a busca mais eficiente.\n",
    "\n",
    "Neste notebook, serão desenvolvidos e comparados ambos os métodos, enfatizando a implementação do zero e a análise dos resultados.\n",
    "\n",
    "---"
   ]
  },
  {
   "cell_type": "markdown",
   "metadata": {},
   "source": [
    "## **Implementação**\n",
    "\n"
   ]
  },
  {
   "cell_type": "markdown",
   "metadata": {},
   "source": [
    "\n",
    "*<h4>Importação das Bibliotecas*"
   ]
  },
  {
   "cell_type": "code",
   "execution_count": null,
   "metadata": {},
   "outputs": [],
   "source": [
    "# Bibliotecas necessárias\n",
    "import numpy as np\n",
    "import heapq\n",
    "from collections import deque\n",
    "import time\n",
    "import matplotlib.pyplot as plt\n"
   ]
  },
  {
   "cell_type": "markdown",
   "metadata": {},
   "source": [
    "## **Definindo o estado do Tabuleiro**"
   ]
  },
  {
   "cell_type": "markdown",
   "metadata": {},
   "source": [
    "*<h4>Criamos a classe PuzzleState para representar o estado do tabuleiro, armazenando o tabuleiro atual, o movimento realizado, o estado anterior e a profundidade atual.*"
   ]
  },
  {
   "cell_type": "code",
   "execution_count": null,
   "metadata": {},
   "outputs": [],
   "source": [
    "class PuzzleState:\n",
    "    def __init__(self, board, parent=None, move=None, depth=0):\n",
    "        self.board = board\n",
    "        self.parent = parent  # Estado anterior\n",
    "        self.move = move      # Movimento realizado\n",
    "        self.depth = depth    # Profundidade atual\n",
    "\n",
    "    # Representação única para estados visitados\n",
    "    def to_tuple(self):\n",
    "        return tuple(map(tuple, self.board))\n",
    "\n",
    "    # Verificar se é o estado final\n",
    "    def is_goal(self, goal_state):\n",
    "        return np.array_equal(self.board, goal_state)\n",
    "\n",
    "    # Gerar novos estados a partir dos movimentos possíveis\n",
    "    def generate_moves(self):\n",
    "        if 0 not in self.board:\n",
    "            raise ValueError(\"Estado inválido: o tabuleiro não contém um espaço vazio (0).\")\n",
    "\n",
    "        x, y = np.argwhere(self.board == 0)[0]\n",
    "        directions = {'up': (-1, 0), 'down': (1, 0), 'left': (0, -1), 'right': (0, 1)}\n",
    "        moves = []\n",
    "\n",
    "        for move, (dx, dy) in directions.items():\n",
    "            new_x, new_y = x + dx, y + dy\n",
    "            if 0 <= new_x < 3 and 0 <= new_y < 3:\n",
    "                new_board = self.board.copy()\n",
    "                new_board[x, y], new_board[new_x, new_y] = new_board[new_x, new_y], new_board[x, y]\n",
    "                moves.append(PuzzleState(new_board, self, move, self.depth + 1))\n",
    "        return moves\n",
    "\n",
    "    # Implementando a comparação para o heapq (usando o custo de A* para ordenação)\n",
    "    def __lt__(self, other):\n",
    "        return (self.depth + heuristic(self.board, goal_state)) < (other.depth + heuristic(other.board, goal_state))\n"
   ]
  },
  {
   "cell_type": "markdown",
   "metadata": {},
   "source": [
    "## **Exibição do Tabuleiro**"
   ]
  },
  {
   "cell_type": "markdown",
   "metadata": {},
   "source": [
    "*<h4>A função de exibição irá atualizar o tabuleiro de maneira visual a cada movimento. Aqui, estamos utilizando o matplotlib para desenhar o tabuleiro no formato de uma grade.*"
   ]
  },
  {
   "cell_type": "code",
   "execution_count": null,
   "metadata": {},
   "outputs": [],
   "source": [
    "def plot_board(board):\n",
    "    # Criação de um gráfico\n",
    "    fig, ax = plt.subplots(figsize=(5, 5))\n",
    "\n",
    "    # Plota o tabuleiro com fundo branco e bordas escuras\n",
    "    ax.matshow(np.ones_like(board) * 255, cmap=\"Blues\")  # Cor de fundo branca\n",
    "\n",
    "    # Adiciona números nas células, e define a cor do texto\n",
    "    for (i, j), val in np.ndenumerate(board):\n",
    "        if val != 0:  # Ignora o espaço vazio (0)\n",
    "            ax.text(j, i, str(val), ha='center', va='center', fontsize=20, color='black')\n",
    "\n",
    "    # Define limites e remove eixos\n",
    "    ax.set_xticks(np.arange(-0.5, 3, 1), minor=True)\n",
    "    ax.set_yticks(np.arange(-0.5, 3, 1), minor=True)\n",
    "    ax.grid(which=\"minor\", color=\"black\", linestyle='-', linewidth=2)\n",
    "    ax.set_xticklabels([])\n",
    "    ax.set_yticklabels([])\n",
    "    \n",
    "    # Exibe o gráfico\n",
    "    plt.show()\n"
   ]
  },
  {
   "cell_type": "markdown",
   "metadata": {},
   "source": [
    "## **Busca em Amplitude (Breadth-First Search)**"
   ]
  },
  {
   "cell_type": "markdown",
   "metadata": {},
   "source": [
    "*<h4>A busca em amplitude expande os nós de forma nível a nível, visitando todos os vizinhos antes de ir mais fundo. É um método cego, ou seja, não utiliza informações adicionais como heurísticas.*"
   ]
  },
  {
   "cell_type": "code",
   "execution_count": null,
   "metadata": {},
   "outputs": [],
   "source": [
    "def breadth_first_search(initial_state, goal_state):\n",
    "    visited = set()\n",
    "    queue = deque([initial_state])\n",
    "\n",
    "    while queue:\n",
    "        state = queue.popleft()\n",
    "\n",
    "        # Exibir o tabuleiro após cada movimento\n",
    "        plot_board(state.board)\n",
    "        \n",
    "        if state.is_goal(goal_state):\n",
    "            return state\n",
    "\n",
    "        visited.add(state.to_tuple())\n",
    "\n",
    "        for move in state.generate_moves():\n",
    "            if move.to_tuple() not in visited:\n",
    "                queue.append(move)\n",
    "    return None\n"
   ]
  },
  {
   "cell_type": "markdown",
   "metadata": {},
   "source": [
    "## **Busca A Star**"
   ]
  },
  {
   "cell_type": "markdown",
   "metadata": {},
   "source": [
    "*<h4>A busca A estrela é um algoritmo informado que utiliza uma heurística para calcular a distância estimada até o objetivo, melhorando a eficiência da busca.*"
   ]
  },
  {
   "cell_type": "code",
   "execution_count": null,
   "metadata": {},
   "outputs": [],
   "source": [
    "def a_star_search(initial_state, goal_state):\n",
    "    visited = set()\n",
    "    priority_queue = []\n",
    "    heapq.heappush(priority_queue, (0, initial_state))  # (prioridade, estado)\n",
    "\n",
    "    while priority_queue:\n",
    "        _, state = heapq.heappop(priority_queue)\n",
    "\n",
    "        plot_board(state.board)  # Exibe o tabuleiro\n",
    "\n",
    "        if state.is_goal(goal_state):\n",
    "            return state\n",
    "\n",
    "        visited.add(state.to_tuple())\n",
    "\n",
    "        for move in state.generate_moves():\n",
    "            if move.to_tuple() not in visited:\n",
    "                cost = move.depth + heuristic(move.board, goal_state)\n",
    "                heapq.heappush(priority_queue, (cost, move))\n",
    "    return None\n",
    "\n",
    "\n"
   ]
  },
  {
   "cell_type": "markdown",
   "metadata": {},
   "source": [
    "## **Função Heurística**"
   ]
  },
  {
   "cell_type": "code",
   "execution_count": null,
   "metadata": {},
   "outputs": [],
   "source": [
    "def heuristic(board, goal_state):\n",
    "    distance = 0\n",
    "    for i in range(3):\n",
    "        for j in range(3):\n",
    "            if board[i][j] != 0:\n",
    "                goal_pos = np.argwhere(goal_state == board[i][j])[0]\n",
    "                x, y = goal_pos\n",
    "                distance += abs(x - i) + abs(y - j)\n",
    "    return distance\n"
   ]
  },
  {
   "cell_type": "markdown",
   "metadata": {},
   "source": [
    "## **Função Principal de Execução**"
   ]
  },
  {
   "cell_type": "code",
   "execution_count": null,
   "metadata": {},
   "outputs": [],
   "source": [
    "# Estado inicial e objetivo\n",
    "initial_board = np.array([\n",
    "    [1, 2, 3],\n",
    "    [4, 0, 6],\n",
    "    [7, 5, 8]\n",
    "])\n",
    "\n",
    "goal_board = np.array([\n",
    "    [1, 2, 3],\n",
    "    [4, 5, 6],\n",
    "    [7, 8, 0]\n",
    "])\n",
    "\n",
    "initial_state = PuzzleState(initial_board)\n",
    "goal_state = goal_board\n",
    "\n",
    "# Testando Busca em Amplitude\n",
    "start = time.time()\n",
    "result_bfs = breadth_first_search(initial_state, goal_state)\n",
    "end = time.time()\n",
    "print(\"Busca em Amplitude:\")\n",
    "print(f\"Tempo de execução: {end - start:.4f} segundos\\n\")\n",
    "\n",
    "# Testando Busca A*\n",
    "start = time.time()\n",
    "result_a_star = a_star_search(initial_state, goal_state)\n",
    "end = time.time()\n",
    "print(\"Busca A*: \")\n",
    "print(f\"Tempo de execução: {end - start:.4f} segundos\\n\")\n"
   ]
  },
  {
   "cell_type": "markdown",
   "metadata": {},
   "source": [
    "## **Conclusão**"
   ]
  },
  {
   "cell_type": "markdown",
   "metadata": {},
   "source": [
    "Neste notebook, comparamos dois algoritmos de busca aplicados ao Jogo dos Oito:\n",
    "\n",
    "Busca em Amplitude: Um método cego que explora o espaço de estados sem qualquer informação adicional, mais lento para grandes estados.\n",
    "Busca A*: Um método informado que utiliza uma heurística, mais eficiente em encontrar soluções rápidas.\n",
    "Ambos os algoritmos foram implementados e testados, com o tempo de execução sendo medido para avaliar a eficiência de cada abordagem.\n",
    "\n"
   ]
  }
 ],
 "metadata": {
  "kernelspec": {
   "display_name": "Python 3",
   "language": "python",
   "name": "python3"
  },
  "language_info": {
   "codemirror_mode": {
    "name": "ipython",
    "version": 3
   },
   "file_extension": ".py",
   "mimetype": "text/x-python",
   "name": "python",
   "nbconvert_exporter": "python",
   "pygments_lexer": "ipython3",
   "version": "3.13.0"
  }
 },
 "nbformat": 4,
 "nbformat_minor": 2
}
