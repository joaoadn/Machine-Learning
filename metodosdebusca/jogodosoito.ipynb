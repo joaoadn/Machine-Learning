{
 "cells": [
  {
   "cell_type": "markdown",
   "metadata": {},
   "source": [
    "### **Jogo dos Oito: Implementação de Métodos de Busca**\n",
    "\n",
    "<p style=\"font-size: smaller; text-align: right;\">João Dias & Rafael Rodrigues</p>\n",
    "\n",
    "---\n",
    "\n",
    "### **Objetivo**\n",
    "\n",
    "Explorar e implementar dois métodos de busca — um cego (*não informado*) e outro informado — para resolver o problema do Jogo dos Oito. Os métodos escolhidos são **Busca em Amplitude (BFS)** e **Algoritmo A Star**. Este notebook visa comparar a eficiência e o desempenho de ambos os algoritmos, focando na solução do problema e na análise dos resultados.\n",
    "\n",
    "---\n",
    "\n",
    "### **Estrutura do Notebook**\n",
    "\n",
    "1. **Introdução**  \n",
    "   Contextualização sobre o Jogo dos Oito e os métodos de busca empregados.\n",
    "\n",
    "2. **Regras do Jogo**  \n",
    "   Definição do estado inicial, operações válidas, e o estado objetivo.\n",
    "\n",
    "3. **Implementação da Busca em Amplitude (BFS)**  \n",
    "   Desenvolvimento passo a passo do método cego.\n",
    "\n",
    "4. **Implementação do Algoritmo A***  \n",
    "   Utilização de heurísticas para um método informado mais eficiente.\n",
    "\n",
    "5. **Visualização dos Movimentos**  \n",
    "   Demonstração das jogadas que levam do estado inicial ao estado objetivo.\n",
    "\n",
    "6. **Comparação de Desempenho**  \n",
    "   Tempo de execução, número de estados explorados e eficiência de cada método.\n",
    "\n",
    "7. **Conclusão**  \n",
    "   Reflexões sobre as vantagens e desvantagens de cada abordagem.\n",
    "\n",
    "---\n",
    "\n",
    "### **Introdução**\n",
    "\n",
    "O Jogo dos Oito é um quebra-cabeça clássico que consiste em um tabuleiro de 3x3, com peças numeradas de 1 a 8 e uma posição vazia. O objetivo é reorganizar as peças de um estado inicial para um estado final predeterminado, utilizando movimentos válidos como deslizar uma peça para a posição vazia.\n",
    "\n",
    "Os métodos de busca empregados para resolver este problema têm aplicações práticas em Inteligência Artificial, especialmente em problemas de caminho mínimo e otimização. Enquanto a **Busca em Amplitude (BFS)** explora todas as possibilidades indiscriminadamente, o **Algoritmo A*** utiliza heurísticas para priorizar caminhos promissores, tornando a busca mais eficiente.\n",
    "\n",
    "Neste notebook, serão desenvolvidos e comparados ambos os métodos, enfatizando a implementação do zero e a análise dos resultados.\n",
    "\n",
    "---"
   ]
  },
  {
   "cell_type": "markdown",
   "metadata": {},
   "source": [
    "## **Implementação**\n",
    "\n"
   ]
  },
  {
   "cell_type": "markdown",
   "metadata": {},
   "source": [
    "\n",
    "*<h4>Importação das Bibliotecas*"
   ]
  },
  {
   "cell_type": "code",
   "execution_count": null,
   "metadata": {},
   "outputs": [],
   "source": [
    "# Bibliotecas necessárias\n",
    "import numpy as np\n",
    "import heapq\n",
    "from collections import deque\n",
    "import time\n",
    "import matplotlib.pyplot as plt\n"
   ]
  },
  {
   "cell_type": "markdown",
   "metadata": {},
   "source": [
    "## **Definindo o estado do Tabuleiro**"
   ]
  },
  {
   "cell_type": "markdown",
   "metadata": {},
   "source": [
    "*<h4>Criamos a classe PuzzleState para representar o estado do tabuleiro, armazenando o tabuleiro atual, o movimento realizado, o estado anterior e a profundidade atual.*"
   ]
  },
  {
   "cell_type": "code",
   "execution_count": null,
   "metadata": {},
   "outputs": [],
   "source": [
    "class PuzzleState:\n",
    "    def __init__(self, board, parent=None, move=None, depth=0):\n",
    "        self.board = board\n",
    "        self.parent = parent\n",
    "        self.move = move\n",
    "        self.depth = depth\n",
    "\n",
    "    def to_tuple(self):\n",
    "        return self.board.tobytes()\n",
    "\n",
    "    def is_goal(self, goal_state):\n",
    "        return (self.board == goal_state).all()\n",
    "\n",
    "    def generate_moves(self, visited):\n",
    "        x, y = next((i, j) for i, row in enumerate(self.board) for j, val in enumerate(row) if val == 0)\n",
    "        directions = {'up': (-1, 0), 'down': (1, 0), 'left': (0, -1), 'right': (0, 1)}\n",
    "        moves = []\n",
    "\n",
    "        for move, (dx, dy) in directions.items():\n",
    "            new_x, new_y = x + dx, y + dy\n",
    "            if 0 <= new_x < 3 and 0 <= new_y < 3:\n",
    "                new_board = self.board.copy()\n",
    "                new_board[x, y], new_board[new_x, new_y] = new_board[new_x, new_y], new_board[x, y]\n",
    "                new_tuple = new_board.tobytes()\n",
    "                if new_tuple not in visited:\n",
    "                    moves.append(PuzzleState(new_board, self, move, self.depth + 1))\n",
    "        return moves\n",
    "\n",
    "    def __lt__(self, other):\n",
    "        return False  # Só necessário para o uso do heapq"
   ]
  },
  {
   "cell_type": "markdown",
   "metadata": {},
   "source": [
    "## **Exibição do Tabuleiro**"
   ]
  },
  {
   "cell_type": "markdown",
   "metadata": {},
   "source": [
    "*<h4>A função de exibição irá atualizar o tabuleiro de maneira visual a cada movimento. Aqui, estamos utilizando o matplotlib para desenhar o tabuleiro no formato de uma grade.*"
   ]
  },
  {
   "cell_type": "code",
   "execution_count": null,
   "metadata": {},
   "outputs": [],
   "source": [
    "def visualize_board(board):\n",
    "    fig, ax = plt.subplots(figsize=(3, 3))\n",
    "    ax.matshow(np.zeros_like(board), cmap=\"Greys\")\n",
    "    for i in range(3):\n",
    "        for j in range(3):\n",
    "            value = board[i][j]\n",
    "            ax.text(j, i, str(value) if value != 0 else \"\", ha='center', va='center', fontsize=20)\n",
    "    plt.axis('off')\n",
    "    plt.show()"
   ]
  },
  {
   "cell_type": "markdown",
   "metadata": {},
   "source": [
    "## **Exibindo o caminho final**"
   ]
  },
  {
   "cell_type": "code",
   "execution_count": null,
   "metadata": {},
   "outputs": [],
   "source": [
    "def display_solution_path(state):\n",
    "    path = []\n",
    "    while state:\n",
    "        path.append(state.board)\n",
    "        state = state.parent\n",
    "    path.reverse()\n",
    "\n",
    "    print(\"Solução encontrada:\")\n",
    "    for board in path:\n",
    "        visualize_board(board)  "
   ]
  },
  {
   "cell_type": "markdown",
   "metadata": {},
   "source": [
    "## **Busca em Amplitude (Breadth-First Search)**"
   ]
  },
  {
   "cell_type": "markdown",
   "metadata": {},
   "source": [
    "*<h4>A busca em amplitude expande os nós de forma nível a nível, visitando todos os vizinhos antes de ir mais fundo. É um método cego, ou seja, não utiliza informações adicionais como heurísticas.*"
   ]
  },
  {
   "cell_type": "code",
   "execution_count": null,
   "metadata": {},
   "outputs": [],
   "source": [
    "def breadth_first_search(initial_state, goal_state):\n",
    "    visited = set()\n",
    "    queue = deque([initial_state])\n",
    "\n",
    "    while queue:\n",
    "        state = queue.popleft()\n",
    "\n",
    "        # Exibir o tabuleiro atual\n",
    "        visualize_board(state.board)\n",
    "\n",
    "        if state.is_goal(goal_state):\n",
    "            return state\n",
    "\n",
    "        visited.add(state.to_tuple())\n",
    "\n",
    "        for move in state.generate_moves(visited):\n",
    "            queue.append(move)\n",
    "    return None"
   ]
  },
  {
   "cell_type": "markdown",
   "metadata": {},
   "source": [
    "## **Busca A Star**"
   ]
  },
  {
   "cell_type": "markdown",
   "metadata": {},
   "source": [
    "*<h4>A busca A estrela é um algoritmo informado que utiliza uma heurística para calcular a distância estimada até o objetivo, melhorando a eficiência da busca.*"
   ]
  },
  {
   "cell_type": "code",
   "execution_count": null,
   "metadata": {},
   "outputs": [],
   "source": [
    "def a_star_search(initial_state, goal_state):\n",
    "    visited = set()\n",
    "    queue = []\n",
    "    heapq.heappush(queue, (0, initial_state))\n",
    "\n",
    "    while queue:\n",
    "        _, state = heapq.heappop(queue)\n",
    "\n",
    "        # Exibir o tabuleiro atual\n",
    "        visualize_board(state.board)\n",
    "\n",
    "        if state.is_goal(goal_state):\n",
    "            return state\n",
    "\n",
    "        visited.add(state.to_tuple())\n",
    "\n",
    "        for move in state.generate_moves(visited):\n",
    "            if move.to_tuple() not in visited:\n",
    "                cost = move.depth + heuristic(move.board, goal_state)\n",
    "                heapq.heappush(queue, (cost, move))\n",
    "    return None"
   ]
  },
  {
   "cell_type": "markdown",
   "metadata": {},
   "source": [
    "## **Função Heurística**"
   ]
  },
  {
   "cell_type": "code",
   "execution_count": null,
   "metadata": {},
   "outputs": [],
   "source": [
    "def heuristic(board, goal_state):\n",
    "    distance = 0\n",
    "    for i in range(3):\n",
    "        for j in range(3):\n",
    "            if board[i][j] != 0:\n",
    "                goal_pos = np.argwhere(goal_state == board[i][j])[0]\n",
    "                x, y = goal_pos\n",
    "                distance += abs(x - i) + abs(y - j)\n",
    "    return distance"
   ]
  },
  {
   "cell_type": "markdown",
   "metadata": {},
   "source": [
    "## **Testando os métodos de busca**"
   ]
  },
  {
   "cell_type": "code",
   "execution_count": null,
   "metadata": {},
   "outputs": [],
   "source": [
    "# Testando os Métodos de Busca\n",
    "\n",
    "# Estado inicial e objetivo\n",
    "initial_board = np.array([\n",
    "    [1, 2, 3],\n",
    "    [4, 0, 6],\n",
    "    [7, 5, 8]\n",
    "])\n",
    "\n",
    "goal_board = np.array([\n",
    "    [1, 2, 3],\n",
    "    [4, 5, 6],\n",
    "    [7, 8, 0]\n",
    "])\n",
    "\n",
    "initial_state = PuzzleState(initial_board)\n",
    "goal_state = goal_board\n",
    "\n",
    "# Teste com BFS\n",
    "print(\"Executando Busca em Largura (BFS)...\")\n",
    "start_bfs = time.time()  # Marca o tempo inicial para BFS\n",
    "result_bfs = breadth_first_search(initial_state, goal_state)\n",
    "end_bfs = time.time()  # Marca o tempo final para BFS\n",
    "if result_bfs:\n",
    "    display_solution_path(result_bfs)\n",
    "bfs_duration = end_bfs - start_bfs  # Tempo gasto na busca BFS\n",
    "print(f\"\\nTempo de execução da BFS: {bfs_duration:.6f} segundos\\n\")\n",
    "\n",
    "# Teste com A*\n",
    "print(\"Executando Busca A*...\")\n",
    "start_a_star = time.time()  # Marca o tempo inicial para A*\n",
    "result_a_star = a_star_search(initial_state, goal_state)\n",
    "end_a_star = time.time()  # Marca o tempo final para A*\n",
    "if result_a_star:\n",
    "    display_solution_path(result_a_star)\n",
    "a_star_duration = end_a_star - start_a_star  # Tempo gasto na busca A*\n",
    "print(f\"\\nTempo de execução da A*: {a_star_duration:.6f} segundos\\n\")\n",
    "\n",
    "# Comparando os tempos de execução\n",
    "if bfs_duration < a_star_duration:\n",
    "    print(\"A Busca em Largura (BFS) foi mais rápida.\")\n",
    "elif a_star_duration < bfs_duration:\n",
    "    print(\"A Busca A* foi mais rápida.\")\n",
    "else:\n",
    "    print(\"Ambas as buscas tiveram o mesmo tempo de execução.\")"
   ]
  },
  {
   "cell_type": "markdown",
   "metadata": {},
   "source": [
    "## **Conclusão**"
   ]
  },
  {
   "cell_type": "markdown",
   "metadata": {},
   "source": [
    "Neste notebook, comparamos dois algoritmos de busca aplicados ao Jogo dos Oito:\n",
    "\n",
    "Busca em Amplitude: Um método cego que explora o espaço de estados sem qualquer informação adicional, mais lento para grandes estados.\n",
    "Busca A*: Um método informado que utiliza uma heurística, mais eficiente em encontrar soluções rápidas.\n",
    "Ambos os algoritmos foram implementados e testados, com o tempo de execução sendo medido para avaliar a eficiência de cada abordagem.\n",
    "\n"
   ]
  }
 ],
 "metadata": {
  "kernelspec": {
   "display_name": "Python 3",
   "language": "python",
   "name": "python3"
  },
  "language_info": {
   "codemirror_mode": {
    "name": "ipython",
    "version": 3
   },
   "file_extension": ".py",
   "mimetype": "text/x-python",
   "name": "python",
   "nbconvert_exporter": "python",
   "pygments_lexer": "ipython3",
   "version": "3.13.0"
  }
 },
 "nbformat": 4,
 "nbformat_minor": 2
}
